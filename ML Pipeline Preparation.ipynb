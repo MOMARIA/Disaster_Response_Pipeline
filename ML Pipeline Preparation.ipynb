{
 "cells": [
  {
   "cell_type": "markdown",
   "metadata": {},
   "source": [
    "# ML Pipeline Preparation\n",
    "Follow the instructions below to help you create your ML pipeline.\n",
    "### 1. Import libraries and load data from database.\n",
    "- Import Python libraries\n",
    "- Load dataset from database with [`read_sql_table`](https://pandas.pydata.org/pandas-docs/stable/generated/pandas.read_sql_table.html)\n",
    "- Define feature and target variables X and Y"
   ]
  },
  {
   "cell_type": "code",
   "execution_count": 1,
   "metadata": {},
   "outputs": [
    {
     "name": "stdout",
     "output_type": "stream",
     "text": [
      "[nltk_data] Downloading package punkt to /root/nltk_data...\n",
      "[nltk_data]   Package punkt is already up-to-date!\n",
      "[nltk_data] Downloading package wordnet to /root/nltk_data...\n",
      "[nltk_data]   Package wordnet is already up-to-date!\n"
     ]
    }
   ],
   "source": [
    "# import libraries\n",
    "import pandas as pd\n",
    "from sqlalchemy import create_engine\n",
    "import re\n",
    "import nltk\n",
    "from nltk.tokenize import word_tokenize\n",
    "from nltk.stem import WordNetLemmatizer\n",
    "nltk.download(['punkt', 'wordnet'])\n",
    "from sklearn.pipeline import Pipeline\n",
    "from sklearn.feature_extraction.text import CountVectorizer, TfidfTransformer\n",
    "from sklearn.multioutput import MultiOutputClassifier\n",
    "from sklearn.ensemble import RandomForestClassifier, AdaBoostClassifier\n",
    "from sklearn.tree import DecisionTreeClassifier\n",
    "from sklearn.model_selection import train_test_split, GridSearchCV\n",
    "from sklearn.metrics import classification_report, accuracy_score, recall_score, precision_score, f1_score\n",
    "import pickle"
   ]
  },
  {
   "cell_type": "code",
   "execution_count": 2,
   "metadata": {},
   "outputs": [],
   "source": [
    "# load data from database\n",
    "engine = create_engine('sqlite:///Disaster_Resp.db')\n",
    "df = pd.read_sql_table('message', con=engine)\n",
    "X = df['message']\n",
    "Y = df.loc[:, 'related':'direct_report']"
   ]
  },
  {
   "cell_type": "markdown",
   "metadata": {},
   "source": [
    "### 2. Write a tokenization function to process your text data"
   ]
  },
  {
   "cell_type": "code",
   "execution_count": 3,
   "metadata": {},
   "outputs": [],
   "source": [
    "URL_REGEX = 'http[s]?://(?:[a-zA-Z]|[0-9]|[$-_@.&+]|[!*\\(\\),]|(?:%[0-9a-fA-F][0-9a-fA-F]))+'\n",
    "\n",
    "def tokenize(text: str) -> list:\n",
    "    \"\"\"\n",
    "    Tokenizes the provided text. URLs in the text are replaced with \"urlplaceholder\".\n",
    "    The text is then tokenized and lemmatized.\n",
    "\n",
    "    Parameters:\n",
    "    - text (str): The input text to be tokenized.\n",
    "\n",
    "    Returns:\n",
    "    - list: The cleaned and tokenized text.\n",
    "    \"\"\"\n",
    "    # Detect and replace URLs\n",
    "    text = re.sub(URL_REGEX, \"urlplaceholder\", text)\n",
    "    \n",
    "    # Tokenize the text\n",
    "    tokens = word_tokenize(text)\n",
    "    \n",
    "    # Initialize the lemmatizer\n",
    "    lemmatizer = WordNetLemmatizer()\n",
    "    \n",
    "    # Lemmatize the tokens\n",
    "    clean_tokens = [lemmatizer.lemmatize(token).lower().strip() for token in tokens]\n",
    "    \n",
    "    return clean_tokens"
   ]
  },
  {
   "cell_type": "markdown",
   "metadata": {},
   "source": [
    "### 3. Build a machine learning pipeline\n",
    "This machine pipeline should take in the `message` column as input and output classification results on the other 36 categories in the dataset. You may find the [MultiOutputClassifier](http://scikit-learn.org/stable/modules/generated/sklearn.multioutput.MultiOutputClassifier.html) helpful for predicting multiple target variables."
   ]
  },
  {
   "cell_type": "code",
   "execution_count": 4,
   "metadata": {},
   "outputs": [],
   "source": [
    "pipeline = Pipeline([\n",
    "    ('vect', CountVectorizer(tokenizer=tokenize)),\n",
    "    ('tfidf', TfidfTransformer()),\n",
    "    ('clf', MultiOutputClassifier(RandomForestClassifier()))\n",
    "])"
   ]
  },
  {
   "cell_type": "markdown",
   "metadata": {},
   "source": [
    "### 4. Train pipeline\n",
    "- Split data into train and test sets\n",
    "- Train pipeline"
   ]
  },
  {
   "cell_type": "code",
   "execution_count": 5,
   "metadata": {},
   "outputs": [
    {
     "data": {
      "text/plain": [
       "Pipeline(memory=None,\n",
       "     steps=[('vect', CountVectorizer(analyzer='word', binary=False, decode_error='strict',\n",
       "        dtype=<class 'numpy.int64'>, encoding='utf-8', input='content',\n",
       "        lowercase=True, max_df=1.0, max_features=None, min_df=1,\n",
       "        ngram_range=(1, 1), preprocessor=None, stop_words=None,\n",
       "        strip...oob_score=False, random_state=None, verbose=0,\n",
       "            warm_start=False),\n",
       "           n_jobs=1))])"
      ]
     },
     "execution_count": 5,
     "metadata": {},
     "output_type": "execute_result"
    }
   ],
   "source": [
    "X_train, X_test, Y_train, Y_test = train_test_split(X, Y)\n",
    "pipeline.fit(X_train, Y_train)"
   ]
  },
  {
   "cell_type": "markdown",
   "metadata": {},
   "source": [
    "### 5. Test your model\n",
    "Report the f1 score, precision and recall for each output category of the dataset. You can do this by iterating through the columns and calling sklearn's `classification_report` on each."
   ]
  },
  {
   "cell_type": "code",
   "execution_count": 6,
   "metadata": {},
   "outputs": [
    {
     "name": "stdout",
     "output_type": "stream",
     "text": [
      "related - Accuracy: 0.8001 | Precision: 0.8001 | Recall: 0.8001 | F1-Score: 0.8001\n",
      "----------------------------------------\n",
      "request - Accuracy: 0.8727 | Precision: 0.8727 | Recall: 0.8727 | F1-Score: 0.8727\n",
      "----------------------------------------\n",
      "offer - Accuracy: 0.9953 | Precision: 0.9953 | Recall: 0.9953 | F1-Score: 0.9953\n",
      "----------------------------------------\n",
      "aid_related - Accuracy: 0.7260 | Precision: 0.7260 | Recall: 0.7260 | F1-Score: 0.7260\n",
      "----------------------------------------\n",
      "medical_help - Accuracy: 0.9236 | Precision: 0.9236 | Recall: 0.9236 | F1-Score: 0.9236\n",
      "----------------------------------------\n",
      "medical_products - Accuracy: 0.9533 | Precision: 0.9533 | Recall: 0.9533 | F1-Score: 0.9533\n",
      "----------------------------------------\n",
      "search_and_rescue - Accuracy: 0.9730 | Precision: 0.9730 | Recall: 0.9730 | F1-Score: 0.9730\n",
      "----------------------------------------\n",
      "security - Accuracy: 0.9812 | Precision: 0.9812 | Recall: 0.9812 | F1-Score: 0.9812\n",
      "----------------------------------------\n",
      "military - Accuracy: 0.9666 | Precision: 0.9666 | Recall: 0.9666 | F1-Score: 0.9666\n",
      "----------------------------------------\n",
      "child_alone - Accuracy: 1.0000 | Precision: 1.0000 | Recall: 1.0000 | F1-Score: 1.0000\n",
      "----------------------------------------\n",
      "water - Accuracy: 0.9461 | Precision: 0.9461 | Recall: 0.9461 | F1-Score: 0.9461\n",
      "----------------------------------------\n",
      "food - Accuracy: 0.9226 | Precision: 0.9226 | Recall: 0.9226 | F1-Score: 0.9226\n",
      "----------------------------------------\n",
      "shelter - Accuracy: 0.9300 | Precision: 0.9300 | Recall: 0.9300 | F1-Score: 0.9300\n",
      "----------------------------------------\n",
      "clothing - Accuracy: 0.9861 | Precision: 0.9861 | Recall: 0.9861 | F1-Score: 0.9861\n",
      "----------------------------------------\n",
      "money - Accuracy: 0.9748 | Precision: 0.9748 | Recall: 0.9748 | F1-Score: 0.9748\n",
      "----------------------------------------\n",
      "missing_people - Accuracy: 0.9873 | Precision: 0.9873 | Recall: 0.9873 | F1-Score: 0.9873\n",
      "----------------------------------------\n",
      "refugees - Accuracy: 0.9658 | Precision: 0.9658 | Recall: 0.9658 | F1-Score: 0.9658\n",
      "----------------------------------------\n",
      "death - Accuracy: 0.9559 | Precision: 0.9559 | Recall: 0.9559 | F1-Score: 0.9559\n",
      "----------------------------------------\n",
      "other_aid - Accuracy: 0.8700 | Precision: 0.8700 | Recall: 0.8700 | F1-Score: 0.8700\n",
      "----------------------------------------\n",
      "infrastructure_related - Accuracy: 0.9356 | Precision: 0.9356 | Recall: 0.9356 | F1-Score: 0.9356\n",
      "----------------------------------------\n",
      "transport - Accuracy: 0.9571 | Precision: 0.9571 | Recall: 0.9571 | F1-Score: 0.9571\n",
      "----------------------------------------\n",
      "buildings - Accuracy: 0.9521 | Precision: 0.9521 | Recall: 0.9521 | F1-Score: 0.9521\n",
      "----------------------------------------\n",
      "electricity - Accuracy: 0.9811 | Precision: 0.9811 | Recall: 0.9811 | F1-Score: 0.9811\n",
      "----------------------------------------\n",
      "tools - Accuracy: 0.9936 | Precision: 0.9936 | Recall: 0.9936 | F1-Score: 0.9936\n",
      "----------------------------------------\n",
      "hospitals - Accuracy: 0.9884 | Precision: 0.9884 | Recall: 0.9884 | F1-Score: 0.9884\n",
      "----------------------------------------\n",
      "shops - Accuracy: 0.9951 | Precision: 0.9951 | Recall: 0.9951 | F1-Score: 0.9951\n",
      "----------------------------------------\n",
      "aid_centers - Accuracy: 0.9896 | Precision: 0.9896 | Recall: 0.9896 | F1-Score: 0.9896\n",
      "----------------------------------------\n",
      "other_infrastructure - Accuracy: 0.9532 | Precision: 0.9532 | Recall: 0.9532 | F1-Score: 0.9532\n",
      "----------------------------------------\n",
      "weather_related - Accuracy: 0.8259 | Precision: 0.8259 | Recall: 0.8259 | F1-Score: 0.8259\n",
      "----------------------------------------\n",
      "floods - Accuracy: 0.9332 | Precision: 0.9332 | Recall: 0.9332 | F1-Score: 0.9332\n",
      "----------------------------------------\n",
      "storm - Accuracy: 0.9298 | Precision: 0.9298 | Recall: 0.9298 | F1-Score: 0.9298\n",
      "----------------------------------------\n",
      "fire - Accuracy: 0.9890 | Precision: 0.9890 | Recall: 0.9890 | F1-Score: 0.9890\n",
      "----------------------------------------\n",
      "earthquake - Accuracy: 0.9460 | Precision: 0.9460 | Recall: 0.9460 | F1-Score: 0.9460\n",
      "----------------------------------------\n",
      "cold - Accuracy: 0.9805 | Precision: 0.9805 | Recall: 0.9805 | F1-Score: 0.9805\n",
      "----------------------------------------\n",
      "other_weather - Accuracy: 0.9504 | Precision: 0.9504 | Recall: 0.9504 | F1-Score: 0.9504\n",
      "----------------------------------------\n",
      "direct_report - Accuracy: 0.8477 | Precision: 0.8477 | Recall: 0.8477 | F1-Score: 0.8477\n",
      "----------------------------------------\n"
     ]
    }
   ],
   "source": [
    "Y_pred = pipeline.predict(X_test)\n",
    "category_name = Y_test.columns.tolist()\n",
    "Y_pred_dtf = pd.DataFrame(Y_pred, columns = category_name)\n",
    "\n",
    "def display_metrics(y_true, y_pred, category_names):\n",
    "    \"\"\"\n",
    "    Display accuracy, precision, recall, and F1-score for each category.\n",
    "\n",
    "    Parameters:\n",
    "    - y_true: True labels\n",
    "    - y_pred: Predicted labels\n",
    "    - category_names: List of category names\n",
    "    \"\"\"\n",
    "    for i, category in enumerate(category_names):\n",
    "        acc = accuracy_score(y_true.iloc[:, i], y_pred.iloc[:, i])\n",
    "        prec = precision_score(y_true.iloc[:, i], y_pred.iloc[:, i], average='micro')\n",
    "        recal = recall_score(y_true.iloc[:, i], y_pred.iloc[:, i], average='micro')\n",
    "        f1 = f1_score(y_true.iloc[:, i], y_pred.iloc[:, i], average='micro')\n",
    "        \n",
    "        print(f\"{category} - Accuracy: {acc:.4f} | Precision: {prec:.4f} | Recall: {recal:.4f} | F1-Score: {f1:.4f}\\n{'-'*40}\")\n",
    "\n",
    "display_metrics(Y_test, Y_pred_dtf, category_name)\n",
    "\n"
   ]
  },
  {
   "cell_type": "markdown",
   "metadata": {},
   "source": [
    "### 6. Improve your model\n",
    "Use grid search to find better parameters. "
   ]
  },
  {
   "cell_type": "code",
   "execution_count": 7,
   "metadata": {},
   "outputs": [
    {
     "data": {
      "text/plain": [
       "{'memory': None,\n",
       " 'steps': [('vect',\n",
       "   CountVectorizer(analyzer='word', binary=False, decode_error='strict',\n",
       "           dtype=<class 'numpy.int64'>, encoding='utf-8', input='content',\n",
       "           lowercase=True, max_df=1.0, max_features=None, min_df=1,\n",
       "           ngram_range=(1, 1), preprocessor=None, stop_words=None,\n",
       "           strip_accents=None, token_pattern='(?u)\\\\b\\\\w\\\\w+\\\\b',\n",
       "           tokenizer=<function tokenize at 0x7f37c2e9a0d0>, vocabulary=None)),\n",
       "  ('tfidf',\n",
       "   TfidfTransformer(norm='l2', smooth_idf=True, sublinear_tf=False, use_idf=True)),\n",
       "  ('clf',\n",
       "   MultiOutputClassifier(estimator=RandomForestClassifier(bootstrap=True, class_weight=None, criterion='gini',\n",
       "               max_depth=None, max_features='auto', max_leaf_nodes=None,\n",
       "               min_impurity_decrease=0.0, min_impurity_split=None,\n",
       "               min_samples_leaf=1, min_samples_split=2,\n",
       "               min_weight_fraction_leaf=0.0, n_estimators=10, n_jobs=1,\n",
       "               oob_score=False, random_state=None, verbose=0,\n",
       "               warm_start=False),\n",
       "              n_jobs=1))],\n",
       " 'vect': CountVectorizer(analyzer='word', binary=False, decode_error='strict',\n",
       "         dtype=<class 'numpy.int64'>, encoding='utf-8', input='content',\n",
       "         lowercase=True, max_df=1.0, max_features=None, min_df=1,\n",
       "         ngram_range=(1, 1), preprocessor=None, stop_words=None,\n",
       "         strip_accents=None, token_pattern='(?u)\\\\b\\\\w\\\\w+\\\\b',\n",
       "         tokenizer=<function tokenize at 0x7f37c2e9a0d0>, vocabulary=None),\n",
       " 'tfidf': TfidfTransformer(norm='l2', smooth_idf=True, sublinear_tf=False, use_idf=True),\n",
       " 'clf': MultiOutputClassifier(estimator=RandomForestClassifier(bootstrap=True, class_weight=None, criterion='gini',\n",
       "             max_depth=None, max_features='auto', max_leaf_nodes=None,\n",
       "             min_impurity_decrease=0.0, min_impurity_split=None,\n",
       "             min_samples_leaf=1, min_samples_split=2,\n",
       "             min_weight_fraction_leaf=0.0, n_estimators=10, n_jobs=1,\n",
       "             oob_score=False, random_state=None, verbose=0,\n",
       "             warm_start=False),\n",
       "            n_jobs=1),\n",
       " 'vect__analyzer': 'word',\n",
       " 'vect__binary': False,\n",
       " 'vect__decode_error': 'strict',\n",
       " 'vect__dtype': numpy.int64,\n",
       " 'vect__encoding': 'utf-8',\n",
       " 'vect__input': 'content',\n",
       " 'vect__lowercase': True,\n",
       " 'vect__max_df': 1.0,\n",
       " 'vect__max_features': None,\n",
       " 'vect__min_df': 1,\n",
       " 'vect__ngram_range': (1, 1),\n",
       " 'vect__preprocessor': None,\n",
       " 'vect__stop_words': None,\n",
       " 'vect__strip_accents': None,\n",
       " 'vect__token_pattern': '(?u)\\\\b\\\\w\\\\w+\\\\b',\n",
       " 'vect__tokenizer': <function __main__.tokenize(text:str) -> list>,\n",
       " 'vect__vocabulary': None,\n",
       " 'tfidf__norm': 'l2',\n",
       " 'tfidf__smooth_idf': True,\n",
       " 'tfidf__sublinear_tf': False,\n",
       " 'tfidf__use_idf': True,\n",
       " 'clf__estimator__bootstrap': True,\n",
       " 'clf__estimator__class_weight': None,\n",
       " 'clf__estimator__criterion': 'gini',\n",
       " 'clf__estimator__max_depth': None,\n",
       " 'clf__estimator__max_features': 'auto',\n",
       " 'clf__estimator__max_leaf_nodes': None,\n",
       " 'clf__estimator__min_impurity_decrease': 0.0,\n",
       " 'clf__estimator__min_impurity_split': None,\n",
       " 'clf__estimator__min_samples_leaf': 1,\n",
       " 'clf__estimator__min_samples_split': 2,\n",
       " 'clf__estimator__min_weight_fraction_leaf': 0.0,\n",
       " 'clf__estimator__n_estimators': 10,\n",
       " 'clf__estimator__n_jobs': 1,\n",
       " 'clf__estimator__oob_score': False,\n",
       " 'clf__estimator__random_state': None,\n",
       " 'clf__estimator__verbose': 0,\n",
       " 'clf__estimator__warm_start': False,\n",
       " 'clf__estimator': RandomForestClassifier(bootstrap=True, class_weight=None, criterion='gini',\n",
       "             max_depth=None, max_features='auto', max_leaf_nodes=None,\n",
       "             min_impurity_decrease=0.0, min_impurity_split=None,\n",
       "             min_samples_leaf=1, min_samples_split=2,\n",
       "             min_weight_fraction_leaf=0.0, n_estimators=10, n_jobs=1,\n",
       "             oob_score=False, random_state=None, verbose=0,\n",
       "             warm_start=False),\n",
       " 'clf__n_jobs': 1}"
      ]
     },
     "execution_count": 7,
     "metadata": {},
     "output_type": "execute_result"
    }
   ],
   "source": [
    "pipeline.get_params()"
   ]
  },
  {
   "cell_type": "code",
   "execution_count": 8,
   "metadata": {},
   "outputs": [],
   "source": [
    "# GridSearchCV\n",
    "parameters = {'clf__estimator__max_depth': [5, 70, None],\n",
    "              'clf__estimator__min_samples_leaf':[1, 7, 10]}\n",
    "cv = GridSearchCV(pipeline, parameters)"
   ]
  },
  {
   "cell_type": "markdown",
   "metadata": {},
   "source": [
    "### 7. Test your model\n",
    "Show the accuracy, precision, and recall of the tuned model.  \n",
    "\n",
    "Since this project focuses on code quality, process, and  pipelines, there is no minimum performance metric needed to pass. However, make sure to fine tune your models for accuracy, precision and recall to make your project stand out - especially for your portfolio!"
   ]
  },
  {
   "cell_type": "code",
   "execution_count": 9,
   "metadata": {},
   "outputs": [
    {
     "data": {
      "text/plain": [
       "GridSearchCV(cv=None, error_score='raise',\n",
       "       estimator=Pipeline(memory=None,\n",
       "     steps=[('vect', CountVectorizer(analyzer='word', binary=False, decode_error='strict',\n",
       "        dtype=<class 'numpy.int64'>, encoding='utf-8', input='content',\n",
       "        lowercase=True, max_df=1.0, max_features=None, min_df=1,\n",
       "        ngram_range=(1, 1), preprocessor=None, stop_words=None,\n",
       "        strip...oob_score=False, random_state=None, verbose=0,\n",
       "            warm_start=False),\n",
       "           n_jobs=1))]),\n",
       "       fit_params=None, iid=True, n_jobs=1,\n",
       "       param_grid={'clf__estimator__max_depth': [5, 70, None], 'clf__estimator__min_samples_leaf': [1, 7, 10]},\n",
       "       pre_dispatch='2*n_jobs', refit=True, return_train_score='warn',\n",
       "       scoring=None, verbose=0)"
      ]
     },
     "execution_count": 9,
     "metadata": {},
     "output_type": "execute_result"
    }
   ],
   "source": [
    "cv.fit(X_train, Y_train) "
   ]
  },
  {
   "cell_type": "code",
   "execution_count": 10,
   "metadata": {},
   "outputs": [
    {
     "name": "stdout",
     "output_type": "stream",
     "text": [
      "related - Accuracy: 0.8036 | Precision: 0.8036 | Recall: 0.8036 | F1-Score: 0.8036\n",
      "----------------------------------------\n",
      "request - Accuracy: 0.8808 | Precision: 0.8808 | Recall: 0.8808 | F1-Score: 0.8808\n",
      "----------------------------------------\n",
      "offer - Accuracy: 0.9953 | Precision: 0.9953 | Recall: 0.9953 | F1-Score: 0.9953\n",
      "----------------------------------------\n",
      "aid_related - Accuracy: 0.7302 | Precision: 0.7302 | Recall: 0.7302 | F1-Score: 0.7302\n",
      "----------------------------------------\n",
      "medical_help - Accuracy: 0.9272 | Precision: 0.9272 | Recall: 0.9272 | F1-Score: 0.9272\n",
      "----------------------------------------\n",
      "medical_products - Accuracy: 0.9532 | Precision: 0.9532 | Recall: 0.9532 | F1-Score: 0.9532\n",
      "----------------------------------------\n",
      "search_and_rescue - Accuracy: 0.9719 | Precision: 0.9719 | Recall: 0.9719 | F1-Score: 0.9719\n",
      "----------------------------------------\n",
      "security - Accuracy: 0.9809 | Precision: 0.9809 | Recall: 0.9809 | F1-Score: 0.9809\n",
      "----------------------------------------\n",
      "military - Accuracy: 0.9658 | Precision: 0.9658 | Recall: 0.9658 | F1-Score: 0.9658\n",
      "----------------------------------------\n",
      "child_alone - Accuracy: 1.0000 | Precision: 1.0000 | Recall: 1.0000 | F1-Score: 1.0000\n",
      "----------------------------------------\n",
      "water - Accuracy: 0.9463 | Precision: 0.9463 | Recall: 0.9463 | F1-Score: 0.9463\n",
      "----------------------------------------\n",
      "food - Accuracy: 0.9266 | Precision: 0.9266 | Recall: 0.9266 | F1-Score: 0.9266\n",
      "----------------------------------------\n",
      "shelter - Accuracy: 0.9281 | Precision: 0.9281 | Recall: 0.9281 | F1-Score: 0.9281\n",
      "----------------------------------------\n",
      "clothing - Accuracy: 0.9860 | Precision: 0.9860 | Recall: 0.9860 | F1-Score: 0.9860\n",
      "----------------------------------------\n",
      "money - Accuracy: 0.9745 | Precision: 0.9745 | Recall: 0.9745 | F1-Score: 0.9745\n",
      "----------------------------------------\n",
      "missing_people - Accuracy: 0.9886 | Precision: 0.9886 | Recall: 0.9886 | F1-Score: 0.9886\n",
      "----------------------------------------\n",
      "refugees - Accuracy: 0.9663 | Precision: 0.9663 | Recall: 0.9663 | F1-Score: 0.9663\n",
      "----------------------------------------\n",
      "death - Accuracy: 0.9577 | Precision: 0.9577 | Recall: 0.9577 | F1-Score: 0.9577\n",
      "----------------------------------------\n",
      "other_aid - Accuracy: 0.8703 | Precision: 0.8703 | Recall: 0.8703 | F1-Score: 0.8703\n",
      "----------------------------------------\n",
      "infrastructure_related - Accuracy: 0.9348 | Precision: 0.9348 | Recall: 0.9348 | F1-Score: 0.9348\n",
      "----------------------------------------\n",
      "transport - Accuracy: 0.9568 | Precision: 0.9568 | Recall: 0.9568 | F1-Score: 0.9568\n",
      "----------------------------------------\n",
      "buildings - Accuracy: 0.9516 | Precision: 0.9516 | Recall: 0.9516 | F1-Score: 0.9516\n",
      "----------------------------------------\n",
      "electricity - Accuracy: 0.9812 | Precision: 0.9812 | Recall: 0.9812 | F1-Score: 0.9812\n",
      "----------------------------------------\n",
      "tools - Accuracy: 0.9936 | Precision: 0.9936 | Recall: 0.9936 | F1-Score: 0.9936\n",
      "----------------------------------------\n",
      "hospitals - Accuracy: 0.9886 | Precision: 0.9886 | Recall: 0.9886 | F1-Score: 0.9886\n",
      "----------------------------------------\n",
      "shops - Accuracy: 0.9951 | Precision: 0.9951 | Recall: 0.9951 | F1-Score: 0.9951\n",
      "----------------------------------------\n",
      "aid_centers - Accuracy: 0.9896 | Precision: 0.9896 | Recall: 0.9896 | F1-Score: 0.9896\n",
      "----------------------------------------\n",
      "other_infrastructure - Accuracy: 0.9532 | Precision: 0.9532 | Recall: 0.9532 | F1-Score: 0.9532\n",
      "----------------------------------------\n",
      "weather_related - Accuracy: 0.8406 | Precision: 0.8406 | Recall: 0.8406 | F1-Score: 0.8406\n",
      "----------------------------------------\n",
      "floods - Accuracy: 0.9376 | Precision: 0.9376 | Recall: 0.9376 | F1-Score: 0.9376\n",
      "----------------------------------------\n",
      "storm - Accuracy: 0.9304 | Precision: 0.9304 | Recall: 0.9304 | F1-Score: 0.9304\n",
      "----------------------------------------\n",
      "fire - Accuracy: 0.9892 | Precision: 0.9892 | Recall: 0.9892 | F1-Score: 0.9892\n",
      "----------------------------------------\n",
      "earthquake - Accuracy: 0.9449 | Precision: 0.9449 | Recall: 0.9449 | F1-Score: 0.9449\n",
      "----------------------------------------\n",
      "cold - Accuracy: 0.9832 | Precision: 0.9832 | Recall: 0.9832 | F1-Score: 0.9832\n",
      "----------------------------------------\n",
      "other_weather - Accuracy: 0.9506 | Precision: 0.9506 | Recall: 0.9506 | F1-Score: 0.9506\n",
      "----------------------------------------\n",
      "direct_report - Accuracy: 0.8514 | Precision: 0.8514 | Recall: 0.8514 | F1-Score: 0.8514\n",
      "----------------------------------------\n"
     ]
    }
   ],
   "source": [
    "# predict and create a dataframe\n",
    "Y_pred = cv.predict(X_test)\n",
    "Y_pred_df = pd.DataFrame(Y_pred, columns = category_name)\n",
    "display_metrics(Y_test, Y_pred_df, category_name)"
   ]
  },
  {
   "cell_type": "markdown",
   "metadata": {},
   "source": [
    "### 8. Try improving your model further. Here are a few ideas:\n",
    "* try other machine learning algorithms\n",
    "* add other features besides the TF-IDF"
   ]
  },
  {
   "cell_type": "code",
   "execution_count": 13,
   "metadata": {},
   "outputs": [
    {
     "name": "stdout",
     "output_type": "stream",
     "text": [
      "related - Accuracy: 0.7438 | Precision: 0.7438 | Recall: 0.7438 | F1-Score: 0.7438\n",
      "----------------------------------------\n",
      "request - Accuracy: 0.8488 | Precision: 0.8488 | Recall: 0.8488 | F1-Score: 0.8488\n",
      "----------------------------------------\n",
      "offer - Accuracy: 0.9919 | Precision: 0.9919 | Recall: 0.9919 | F1-Score: 0.9919\n",
      "----------------------------------------\n",
      "aid_related - Accuracy: 0.6977 | Precision: 0.6977 | Recall: 0.6977 | F1-Score: 0.6977\n",
      "----------------------------------------\n",
      "medical_help - Accuracy: 0.8943 | Precision: 0.8943 | Recall: 0.8943 | F1-Score: 0.8943\n",
      "----------------------------------------\n",
      "medical_products - Accuracy: 0.9385 | Precision: 0.9385 | Recall: 0.9385 | F1-Score: 0.9385\n",
      "----------------------------------------\n",
      "search_and_rescue - Accuracy: 0.9634 | Precision: 0.9634 | Recall: 0.9634 | F1-Score: 0.9634\n",
      "----------------------------------------\n",
      "security - Accuracy: 0.9675 | Precision: 0.9675 | Recall: 0.9675 | F1-Score: 0.9675\n",
      "----------------------------------------\n",
      "military - Accuracy: 0.9616 | Precision: 0.9616 | Recall: 0.9616 | F1-Score: 0.9616\n",
      "----------------------------------------\n",
      "child_alone - Accuracy: 1.0000 | Precision: 1.0000 | Recall: 1.0000 | F1-Score: 1.0000\n",
      "----------------------------------------\n",
      "water - Accuracy: 0.9587 | Precision: 0.9587 | Recall: 0.9587 | F1-Score: 0.9587\n",
      "----------------------------------------\n",
      "food - Accuracy: 0.9431 | Precision: 0.9431 | Recall: 0.9431 | F1-Score: 0.9431\n",
      "----------------------------------------\n",
      "shelter - Accuracy: 0.9336 | Precision: 0.9336 | Recall: 0.9336 | F1-Score: 0.9336\n",
      "----------------------------------------\n",
      "clothing - Accuracy: 0.9852 | Precision: 0.9852 | Recall: 0.9852 | F1-Score: 0.9852\n",
      "----------------------------------------\n",
      "money - Accuracy: 0.9742 | Precision: 0.9742 | Recall: 0.9742 | F1-Score: 0.9742\n",
      "----------------------------------------\n",
      "missing_people - Accuracy: 0.9843 | Precision: 0.9843 | Recall: 0.9843 | F1-Score: 0.9843\n",
      "----------------------------------------\n",
      "refugees - Accuracy: 0.9579 | Precision: 0.9579 | Recall: 0.9579 | F1-Score: 0.9579\n",
      "----------------------------------------\n",
      "death - Accuracy: 0.9576 | Precision: 0.9576 | Recall: 0.9576 | F1-Score: 0.9576\n",
      "----------------------------------------\n",
      "other_aid - Accuracy: 0.8198 | Precision: 0.8198 | Recall: 0.8198 | F1-Score: 0.8198\n",
      "----------------------------------------\n",
      "infrastructure_related - Accuracy: 0.9023 | Precision: 0.9023 | Recall: 0.9023 | F1-Score: 0.9023\n",
      "----------------------------------------\n",
      "transport - Accuracy: 0.9356 | Precision: 0.9356 | Recall: 0.9356 | F1-Score: 0.9356\n",
      "----------------------------------------\n",
      "buildings - Accuracy: 0.9454 | Precision: 0.9454 | Recall: 0.9454 | F1-Score: 0.9454\n",
      "----------------------------------------\n",
      "electricity - Accuracy: 0.9759 | Precision: 0.9759 | Recall: 0.9759 | F1-Score: 0.9759\n",
      "----------------------------------------\n",
      "tools - Accuracy: 0.9901 | Precision: 0.9901 | Recall: 0.9901 | F1-Score: 0.9901\n",
      "----------------------------------------\n",
      "hospitals - Accuracy: 0.9829 | Precision: 0.9829 | Recall: 0.9829 | F1-Score: 0.9829\n",
      "----------------------------------------\n",
      "shops - Accuracy: 0.9927 | Precision: 0.9927 | Recall: 0.9927 | F1-Score: 0.9927\n",
      "----------------------------------------\n",
      "aid_centers - Accuracy: 0.9803 | Precision: 0.9803 | Recall: 0.9803 | F1-Score: 0.9803\n",
      "----------------------------------------\n",
      "other_infrastructure - Accuracy: 0.9315 | Precision: 0.9315 | Recall: 0.9315 | F1-Score: 0.9315\n",
      "----------------------------------------\n",
      "weather_related - Accuracy: 0.8349 | Precision: 0.8349 | Recall: 0.8349 | F1-Score: 0.8349\n",
      "----------------------------------------\n",
      "floods - Accuracy: 0.9344 | Precision: 0.9344 | Recall: 0.9344 | F1-Score: 0.9344\n",
      "----------------------------------------\n",
      "storm - Accuracy: 0.9341 | Precision: 0.9341 | Recall: 0.9341 | F1-Score: 0.9341\n",
      "----------------------------------------\n",
      "fire - Accuracy: 0.9846 | Precision: 0.9846 | Recall: 0.9846 | F1-Score: 0.9846\n",
      "----------------------------------------\n",
      "earthquake - Accuracy: 0.9629 | Precision: 0.9629 | Recall: 0.9629 | F1-Score: 0.9629\n",
      "----------------------------------------\n",
      "cold - Accuracy: 0.9782 | Precision: 0.9782 | Recall: 0.9782 | F1-Score: 0.9782\n",
      "----------------------------------------\n",
      "other_weather - Accuracy: 0.9188 | Precision: 0.9188 | Recall: 0.9188 | F1-Score: 0.9188\n",
      "----------------------------------------\n",
      "direct_report - Accuracy: 0.8181 | Precision: 0.8181 | Recall: 0.8181 | F1-Score: 0.8181\n",
      "----------------------------------------\n"
     ]
    }
   ],
   "source": [
    "# Define the pipeline\n",
    "pipeline = Pipeline([\n",
    "    ('vect', CountVectorizer(tokenizer=tokenize)),\n",
    "    ('tfidf', TfidfTransformer()),\n",
    "    ('clf', MultiOutputClassifier(DecisionTreeClassifier()))\n",
    "])\n",
    "\n",
    "# Split the data\n",
    "X_train, X_test, Y_train, Y_test = train_test_split(X, Y)\n",
    "\n",
    "# Train the pipeline\n",
    "pipeline.fit(X_train, Y_train)\n",
    "\n",
    "# Predict using the pipeline\n",
    "Y_pred = pipeline.predict(X_test)\n",
    "\n",
    "# Save the predicted values into a DataFrame\n",
    "Y_pred_df = pd.DataFrame(Y_pred, columns=category_name)\n",
    "\n",
    "display_metrics(Y_test, Y_pred_df, category_name)"
   ]
  },
  {
   "cell_type": "markdown",
   "metadata": {},
   "source": [
    "### 9. Export your model as a pickle file"
   ]
  },
  {
   "cell_type": "code",
   "execution_count": 14,
   "metadata": {},
   "outputs": [],
   "source": [
    "pickle.dump(cv, open('model_class.pkl', 'wb'))"
   ]
  },
  {
   "cell_type": "markdown",
   "metadata": {},
   "source": [
    "### 10. Use this notebook to complete `train.py`\n",
    "Use the template file attached in the Resources folder to write a script that runs the steps above to create a database and export a model based on a new dataset specified by the user."
   ]
  },
  {
   "cell_type": "code",
   "execution_count": null,
   "metadata": {},
   "outputs": [],
   "source": []
  }
 ],
 "metadata": {
  "kernelspec": {
   "display_name": "Python 3",
   "language": "python",
   "name": "python3"
  },
  "language_info": {
   "codemirror_mode": {
    "name": "ipython",
    "version": 3
   },
   "file_extension": ".py",
   "mimetype": "text/x-python",
   "name": "python",
   "nbconvert_exporter": "python",
   "pygments_lexer": "ipython3",
   "version": "3.6.3"
  }
 },
 "nbformat": 4,
 "nbformat_minor": 2
}
